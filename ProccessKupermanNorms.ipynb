{
 "metadata": {
  "language_info": {
   "codemirror_mode": {
    "name": "ipython",
    "version": 3
   },
   "file_extension": ".py",
   "mimetype": "text/x-python",
   "name": "python",
   "nbconvert_exporter": "python",
   "pygments_lexer": "ipython3",
   "version": "3.8.5-final"
  },
  "orig_nbformat": 2,
  "kernelspec": {
   "name": "python3",
   "display_name": "Python 3",
   "language": "python"
  }
 },
 "nbformat": 4,
 "nbformat_minor": 2,
 "cells": [
  {
   "cell_type": "code",
   "execution_count": 2,
   "metadata": {},
   "outputs": [],
   "source": [
    "\"\"\"\n",
    "    Code for processing Kuperman norms and getting results using handcrafted psycholingusitc features\n",
    "    For convience, we have also included preprocessed versions of both datasets in the repo\n",
    "    Author: Antonio Laverghetta Jr.\n",
    "    alaverghett@usf.edu\n",
    "\"\"\"\n",
    "import pandas as pd\n",
    "import nltk\n",
    "import numpy as np\n",
    "from nltk.corpus import wordnet as wn\n",
    "from scipy.stats import entropy, pearsonr\n",
    "from os import listdir, rename\n",
    "from os.path import isfile, join\n",
    "from statistics import mean\n",
    "from matplotlib import pyplot as plt"
   ]
  },
  {
   "cell_type": "code",
   "execution_count": 2,
   "metadata": {},
   "outputs": [
    {
     "output_type": "execute_result",
     "data": {
      "text/plain": [
       "                text  frequency\n",
       "0                you   28787591\n",
       "1                  i   27086011\n",
       "2                the   22761659\n",
       "3                 to   17099834\n",
       "4                  a   14484562\n",
       "...              ...        ...\n",
       "1656991  drain-pipes          1\n",
       "1656992     baskests          1\n",
       "1656993     baldinis          1\n",
       "1656994    anythning          1\n",
       "1656995       jjonah          1\n",
       "\n",
       "[1656996 rows x 2 columns]"
      ],
      "text/html": "<div>\n<style scoped>\n    .dataframe tbody tr th:only-of-type {\n        vertical-align: middle;\n    }\n\n    .dataframe tbody tr th {\n        vertical-align: top;\n    }\n\n    .dataframe thead th {\n        text-align: right;\n    }\n</style>\n<table border=\"1\" class=\"dataframe\">\n  <thead>\n    <tr style=\"text-align: right;\">\n      <th></th>\n      <th>text</th>\n      <th>frequency</th>\n    </tr>\n  </thead>\n  <tbody>\n    <tr>\n      <th>0</th>\n      <td>you</td>\n      <td>28787591</td>\n    </tr>\n    <tr>\n      <th>1</th>\n      <td>i</td>\n      <td>27086011</td>\n    </tr>\n    <tr>\n      <th>2</th>\n      <td>the</td>\n      <td>22761659</td>\n    </tr>\n    <tr>\n      <th>3</th>\n      <td>to</td>\n      <td>17099834</td>\n    </tr>\n    <tr>\n      <th>4</th>\n      <td>a</td>\n      <td>14484562</td>\n    </tr>\n    <tr>\n      <th>...</th>\n      <td>...</td>\n      <td>...</td>\n    </tr>\n    <tr>\n      <th>1656991</th>\n      <td>drain-pipes</td>\n      <td>1</td>\n    </tr>\n    <tr>\n      <th>1656992</th>\n      <td>baskests</td>\n      <td>1</td>\n    </tr>\n    <tr>\n      <th>1656993</th>\n      <td>baldinis</td>\n      <td>1</td>\n    </tr>\n    <tr>\n      <th>1656994</th>\n      <td>anythning</td>\n      <td>1</td>\n    </tr>\n    <tr>\n      <th>1656995</th>\n      <td>jjonah</td>\n      <td>1</td>\n    </tr>\n  </tbody>\n</table>\n<p>1656996 rows × 2 columns</p>\n</div>"
     },
     "metadata": {},
     "execution_count": 2
    }
   ],
   "source": [
    "frequencies = pd.read_csv('opensubtitles_frequencies.txt', sep=r'\\s{2,}')\n",
    "frequencies"
   ]
  },
  {
   "cell_type": "code",
   "execution_count": 3,
   "metadata": {},
   "outputs": [
    {
     "output_type": "execute_result",
     "data": {
      "text/plain": [
       "           text noun  Nletters  frequency  synsets     labels      pos\n",
       "0             a    0         1   14484562        7   2.893384  Article\n",
       "1      aardvark    1         8        233        1   9.890000     Noun\n",
       "2        abacus    1         6        256        2   8.690000     Noun\n",
       "3       abalone    0         7        435        1  12.230000     Verb\n",
       "4       abandon    0         7       9208        7   8.320000     Verb\n",
       "...         ...  ...       ...        ...      ...        ...      ...\n",
       "30402      zoom    0         4       3399        5   8.570000     Verb\n",
       "30403      zoon    1         4         39        1  12.430000     Noun\n",
       "30404  zucchini    1         8        658        2   6.790000     Noun\n",
       "30405  zwieback    1         8         13        1  16.100000     Noun\n",
       "30406    zygote    1         6         53        1  15.380000     Noun\n",
       "\n",
       "[30407 rows x 7 columns]"
      ],
      "text/html": "<div>\n<style scoped>\n    .dataframe tbody tr th:only-of-type {\n        vertical-align: middle;\n    }\n\n    .dataframe tbody tr th {\n        vertical-align: top;\n    }\n\n    .dataframe thead th {\n        text-align: right;\n    }\n</style>\n<table border=\"1\" class=\"dataframe\">\n  <thead>\n    <tr style=\"text-align: right;\">\n      <th></th>\n      <th>text</th>\n      <th>noun</th>\n      <th>Nletters</th>\n      <th>frequency</th>\n      <th>synsets</th>\n      <th>labels</th>\n      <th>pos</th>\n    </tr>\n  </thead>\n  <tbody>\n    <tr>\n      <th>0</th>\n      <td>a</td>\n      <td>0</td>\n      <td>1</td>\n      <td>14484562</td>\n      <td>7</td>\n      <td>2.893384</td>\n      <td>Article</td>\n    </tr>\n    <tr>\n      <th>1</th>\n      <td>aardvark</td>\n      <td>1</td>\n      <td>8</td>\n      <td>233</td>\n      <td>1</td>\n      <td>9.890000</td>\n      <td>Noun</td>\n    </tr>\n    <tr>\n      <th>2</th>\n      <td>abacus</td>\n      <td>1</td>\n      <td>6</td>\n      <td>256</td>\n      <td>2</td>\n      <td>8.690000</td>\n      <td>Noun</td>\n    </tr>\n    <tr>\n      <th>3</th>\n      <td>abalone</td>\n      <td>0</td>\n      <td>7</td>\n      <td>435</td>\n      <td>1</td>\n      <td>12.230000</td>\n      <td>Verb</td>\n    </tr>\n    <tr>\n      <th>4</th>\n      <td>abandon</td>\n      <td>0</td>\n      <td>7</td>\n      <td>9208</td>\n      <td>7</td>\n      <td>8.320000</td>\n      <td>Verb</td>\n    </tr>\n    <tr>\n      <th>...</th>\n      <td>...</td>\n      <td>...</td>\n      <td>...</td>\n      <td>...</td>\n      <td>...</td>\n      <td>...</td>\n      <td>...</td>\n    </tr>\n    <tr>\n      <th>30402</th>\n      <td>zoom</td>\n      <td>0</td>\n      <td>4</td>\n      <td>3399</td>\n      <td>5</td>\n      <td>8.570000</td>\n      <td>Verb</td>\n    </tr>\n    <tr>\n      <th>30403</th>\n      <td>zoon</td>\n      <td>1</td>\n      <td>4</td>\n      <td>39</td>\n      <td>1</td>\n      <td>12.430000</td>\n      <td>Noun</td>\n    </tr>\n    <tr>\n      <th>30404</th>\n      <td>zucchini</td>\n      <td>1</td>\n      <td>8</td>\n      <td>658</td>\n      <td>2</td>\n      <td>6.790000</td>\n      <td>Noun</td>\n    </tr>\n    <tr>\n      <th>30405</th>\n      <td>zwieback</td>\n      <td>1</td>\n      <td>8</td>\n      <td>13</td>\n      <td>1</td>\n      <td>16.100000</td>\n      <td>Noun</td>\n    </tr>\n    <tr>\n      <th>30406</th>\n      <td>zygote</td>\n      <td>1</td>\n      <td>6</td>\n      <td>53</td>\n      <td>1</td>\n      <td>15.380000</td>\n      <td>Noun</td>\n    </tr>\n  </tbody>\n</table>\n<p>30407 rows × 7 columns</p>\n</div>"
     },
     "metadata": {},
     "execution_count": 3
    }
   ],
   "source": [
    "kuperman = pd.read_excel(\"kuperman_norms.xls\")\n",
    "kuperman.drop(['Freq_pm','Nphon','Nsyll','AoA_Kup','Perc_known','Perc_known_lem','AoA_Bird_lem','AoA_Bristol_lem','AoA_Cort_lem','AoA_Schock','Word','Alternative.spelling'],axis=1,inplace=True)\n",
    "kuperman.dropna(inplace=True)\n",
    "kuperman.drop_duplicates(inplace=True,subset=['Lemma_highest_PoS'])\n",
    "kuperman.rename({\"Lemma_highest_PoS\":\"text\",\"AoA_Kup_lem\":\"labels\",\"Dom_PoS_SUBTLEX\":\"noun\",\"pos_kept\":'pos'},axis=1,inplace=True)\n",
    "kuperman = kuperman.merge(frequencies,on='text',how='inner')\n",
    "\n",
    "kuperman.loc[kuperman.pos != 'Noun','noun'] = 0\n",
    "kuperman.loc[kuperman.pos == 'Noun','noun'] = 1\n",
    "\n",
    "# get synsets\n",
    "kuperman['synsets'] = 0\n",
    "for index, row in kuperman.iterrows():\n",
    "    if len(wn.synsets(row['text'])) == 0:\n",
    "        kuperman.at[index, 'synsets'] = 1\n",
    "    else:\n",
    "        kuperman.at[index, 'synsets'] = len(wn.synsets(row['text']))\n",
    "\n",
    "kuperman = kuperman[['text','noun','Nletters','frequency','synsets','labels','pos']]\n",
    "kuperman"
   ]
  },
  {
   "cell_type": "code",
   "execution_count": 5,
   "metadata": {},
   "outputs": [],
   "source": [
    "kuperman.to_csv('kuperman_psycholinguistic_features.csv')"
   ]
  },
  {
   "cell_type": "code",
   "execution_count": 3,
   "metadata": {},
   "outputs": [
    {
     "output_type": "execute_result",
     "data": {
      "text/plain": [
       "               text          category  noun  Nletters  frequency  synsets  \\\n",
       "0    cockadoodledoo            sounds     0        14          1        1   \n",
       "1              grrr            sounds     0         4        710        1   \n",
       "2              meow            sounds     0         4       2889        2   \n",
       "3              ouch            sounds     0         4      11779        1   \n",
       "4             vroom            sounds     0         5        700        2   \n",
       "..              ...               ...   ...       ...        ...      ...   \n",
       "595         because  connecting_words     0         7     880112        1   \n",
       "596             but  connecting_words     0         3    3631462        1   \n",
       "597              if  connecting_words     0         2    2630800        1   \n",
       "598              so  connecting_words     0         2    3434152       11   \n",
       "599            then  connecting_words     0         4    1275502        5   \n",
       "\n",
       "     labels  \n",
       "0        25  \n",
       "1         9  \n",
       "2        17  \n",
       "3        18  \n",
       "4        17  \n",
       "..      ...  \n",
       "595      31  \n",
       "596      33  \n",
       "597       0  \n",
       "598      37  \n",
       "599       0  \n",
       "\n",
       "[600 rows x 7 columns]"
      ],
      "text/html": "<div>\n<style scoped>\n    .dataframe tbody tr th:only-of-type {\n        vertical-align: middle;\n    }\n\n    .dataframe tbody tr th {\n        vertical-align: top;\n    }\n\n    .dataframe thead th {\n        text-align: right;\n    }\n</style>\n<table border=\"1\" class=\"dataframe\">\n  <thead>\n    <tr style=\"text-align: right;\">\n      <th></th>\n      <th>text</th>\n      <th>category</th>\n      <th>noun</th>\n      <th>Nletters</th>\n      <th>frequency</th>\n      <th>synsets</th>\n      <th>labels</th>\n    </tr>\n  </thead>\n  <tbody>\n    <tr>\n      <th>0</th>\n      <td>cockadoodledoo</td>\n      <td>sounds</td>\n      <td>0</td>\n      <td>14</td>\n      <td>1</td>\n      <td>1</td>\n      <td>25</td>\n    </tr>\n    <tr>\n      <th>1</th>\n      <td>grrr</td>\n      <td>sounds</td>\n      <td>0</td>\n      <td>4</td>\n      <td>710</td>\n      <td>1</td>\n      <td>9</td>\n    </tr>\n    <tr>\n      <th>2</th>\n      <td>meow</td>\n      <td>sounds</td>\n      <td>0</td>\n      <td>4</td>\n      <td>2889</td>\n      <td>2</td>\n      <td>17</td>\n    </tr>\n    <tr>\n      <th>3</th>\n      <td>ouch</td>\n      <td>sounds</td>\n      <td>0</td>\n      <td>4</td>\n      <td>11779</td>\n      <td>1</td>\n      <td>18</td>\n    </tr>\n    <tr>\n      <th>4</th>\n      <td>vroom</td>\n      <td>sounds</td>\n      <td>0</td>\n      <td>5</td>\n      <td>700</td>\n      <td>2</td>\n      <td>17</td>\n    </tr>\n    <tr>\n      <th>...</th>\n      <td>...</td>\n      <td>...</td>\n      <td>...</td>\n      <td>...</td>\n      <td>...</td>\n      <td>...</td>\n      <td>...</td>\n    </tr>\n    <tr>\n      <th>595</th>\n      <td>because</td>\n      <td>connecting_words</td>\n      <td>0</td>\n      <td>7</td>\n      <td>880112</td>\n      <td>1</td>\n      <td>31</td>\n    </tr>\n    <tr>\n      <th>596</th>\n      <td>but</td>\n      <td>connecting_words</td>\n      <td>0</td>\n      <td>3</td>\n      <td>3631462</td>\n      <td>1</td>\n      <td>33</td>\n    </tr>\n    <tr>\n      <th>597</th>\n      <td>if</td>\n      <td>connecting_words</td>\n      <td>0</td>\n      <td>2</td>\n      <td>2630800</td>\n      <td>1</td>\n      <td>0</td>\n    </tr>\n    <tr>\n      <th>598</th>\n      <td>so</td>\n      <td>connecting_words</td>\n      <td>0</td>\n      <td>2</td>\n      <td>3434152</td>\n      <td>11</td>\n      <td>37</td>\n    </tr>\n    <tr>\n      <th>599</th>\n      <td>then</td>\n      <td>connecting_words</td>\n      <td>0</td>\n      <td>4</td>\n      <td>1275502</td>\n      <td>5</td>\n      <td>0</td>\n    </tr>\n  </tbody>\n</table>\n<p>600 rows × 7 columns</p>\n</div>"
     },
     "metadata": {},
     "execution_count": 3
    }
   ],
   "source": [
    "\"\"\"\n",
    "now for the wordbank data\n",
    "note that this code does NOT annotate for part of speech, as we manually performed this step\n",
    "\"\"\"\n",
    "\n",
    "kuperman = pd.read_csv(\"AoA_baseline_features.csv\")\n",
    "# kuperman.drop(['Freq_pm','Nphon','Nsyll','AoA_Kup','Perc_known','Perc_known_lem','AoA_Bird_lem','AoA_Bristol_lem','AoA_Cort_lem','AoA_Schock','Word','Alternative.spelling'],axis=1,inplace=True)\n",
    "# kuperman.dropna(inplace=True)\n",
    "# kuperman.drop_duplicates(inplace=True,subset=['Lemma_highest_PoS'])\n",
    "kuperman.rename({\"Word\":\"text\",\"AoA\":\"labels\"},axis=1,inplace=True)\n",
    "kuperman = kuperman.merge(frequencies,on='text',how='inner')\n",
    "\n",
    "# kuperman.loc[kuperman.pos != 'Noun','pos'] = 0\n",
    "# kuperman.loc[kuperman.pos == 'Noun','pos'] = 1\n",
    "\n",
    "# get synsets\n",
    "kuperman['synsets'] = 0\n",
    "kuperman['Nletters'] = 0\n",
    "for index, row in kuperman.iterrows():\n",
    "    kuperman.at[index, 'Nletters'] = len(row['text'])\n",
    "    if len(wn.synsets(row['text'])) == 0:\n",
    "        kuperman.at[index, 'synsets'] = 1\n",
    "    else:\n",
    "        kuperman.at[index, 'synsets'] = len(wn.synsets(row['text']))\n",
    "\n",
    "kuperman = kuperman[['text','category','noun','Nletters','frequency','synsets','labels']]\n",
    "kuperman"
   ]
  },
  {
   "cell_type": "code",
   "execution_count": 3,
   "metadata": {},
   "outputs": [],
   "source": [
    "\"\"\"\n",
    "    Map worbank norms onto a set of discrete labels\n",
    "\"\"\"\n",
    "wordbank = pd.read_csv(\"Wordbank_psycholinguistic_features.csv\")\n",
    "\n",
    "for index, row in wordbank.iterrows():\n",
    "    if row['labels'] > 0.0 and row['labels'] <= 20.0:\n",
    "        wordbank.at[index, 'labels'] = 0\n",
    "    elif row['labels'] > 20.0 and row['labels'] <= 25.0:\n",
    "        wordbank.at[index, 'labels'] = 1\n",
    "    elif row['labels'] > 25.0 and row['labels'] <= 52.0:\n",
    "        wordbank.at[index, 'labels'] = 2\n",
    "\n",
    "wordbank.to_csv(\"Wordbank_psycholinguistic_features_classification.csv\")"
   ]
  },
  {
   "cell_type": "code",
   "execution_count": null,
   "metadata": {},
   "outputs": [],
   "source": []
  }
 ]
}